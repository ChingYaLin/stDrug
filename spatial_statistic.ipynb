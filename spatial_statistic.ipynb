{
 "cells": [
  {
   "cell_type": "markdown",
   "id": "a45dcb21",
   "metadata": {},
   "source": [
    "---\n",
    "## Squidpy 統計方法"
   ]
  },
  {
   "cell_type": "code",
   "execution_count": null,
   "id": "4644bc2c",
   "metadata": {},
   "outputs": [],
   "source": [
    "fig, ax = plt.subplots(1, 2, figsize=(15, 15))\n",
    "sq.gr.spatial_neighbors(\n",
    "    adata,\n",
    "    n_neighs=10,\n",
    "    coord_type=\"generic\",\n",
    ")\n",
    "_, idx = adata.obsp[\"spatial_connectivities\"][110, :].nonzero()\n",
    "idx = np.append(idx, 110)\n",
    "sq.pl.spatial_scatter(\n",
    "    adata[idx, :],\n",
    "    color=\"leiden\",\n",
    "    connectivity_key=\"spatial_connectivities\",\n",
    "    size=0.5,\n",
    "    edges_width=1,\n",
    "    edges_color=\"black\",\n",
    "    img=False,\n",
    "    title=\"K-nearest neighbors\",\n",
    "    ax=ax[0],\n",
    ")\n",
    "\n",
    "sq.gr.spatial_neighbors(\n",
    "    adata,\n",
    "    n_neighs=10,\n",
    "    coord_type=\"generic\",\n",
    "    delaunay=True,\n",
    ")\n",
    "_, idx = adata.obsp[\"spatial_connectivities\"][110, :].nonzero()\n",
    "idx = np.append(idx, 110)\n",
    "sq.pl.spatial_scatter(\n",
    "    adata[idx, :],\n",
    "    color=\"leiden\",\n",
    "    connectivity_key=\"spatial_connectivities\",\n",
    "    size=0.5,\n",
    "    edges_width=1,\n",
    "    edges_color=\"black\",\n",
    "    img=False,\n",
    "    title=\"Delaunay triangulation\",\n",
    "    ax=ax[1],\n",
    ")"
   ]
  },
  {
   "cell_type": "code",
   "execution_count": null,
   "id": "3222325d",
   "metadata": {},
   "outputs": [],
   "source": [
    "sq.gr.spatial_neighbors(\n",
    "    adata,\n",
    "    radius=30,\n",
    "    coord_type=\"generic\",\n",
    ")\n",
    "\n",
    "_, idx = adata.obsp[\"spatial_connectivities\"][110, :].nonzero()\n",
    "idx = np.append(idx, 110)\n",
    "sq.pl.spatial_scatter(\n",
    "    adata[idx, :],\n",
    "    color=\"leiden\",\n",
    "    connectivity_key=\"spatial_connectivities\",\n",
    "    size=0.2,\n",
    "    edges_width=1,\n",
    "    edges_color=\"black\",\n",
    "    img=False,\n",
    ")"
   ]
  },
  {
   "cell_type": "code",
   "execution_count": null,
   "id": "5ef3375e",
   "metadata": {},
   "outputs": [],
   "source": [
    "### 聚中心程度的計算\n",
    "adata_spatial_neighbor = sq.gr.spatial_neighbors(\n",
    "    adata, coord_type=\"generic\", delaunay=True\n",
    ")"
   ]
  },
  {
   "cell_type": "code",
   "execution_count": null,
   "id": "dd71f10c",
   "metadata": {},
   "outputs": [],
   "source": [
    "sq.gr.centrality_scores(adata, cluster_key=\"leiden\")\n",
    "sq.pl.centrality_scores(adata, cluster_key=\"leiden\", figsize=(10, 6))"
   ]
  },
  {
   "cell_type": "code",
   "execution_count": null,
   "id": "874d40f6",
   "metadata": {},
   "outputs": [],
   "source": [
    "## Co-occurence probability\n",
    "sq.gr.co_occurrence(\n",
    "    adata,\n",
    "    cluster_key=\"leiden\",\n",
    ")\n",
    "sq.pl.co_occurrence(\n",
    "    adata,\n",
    "    cluster_key=\"leiden\",\n",
    "    clusters=\"3\",\n",
    ")\n"
   ]
  },
  {
   "cell_type": "code",
   "execution_count": null,
   "id": "3fc9618d",
   "metadata": {},
   "outputs": [],
   "source": [
    "sq.gr.nhood_enrichment(adata, cluster_key=\"leiden\")\n",
    "sq.pl.nhood_enrichment(\n",
    "    adata,\n",
    "    cluster_key=\"leiden\",\n",
    "    figsize=(3, 3),\n",
    "    title=\"Neighborhood enrichment adata\",\n",
    ")"
   ]
  },
  {
   "cell_type": "code",
   "execution_count": null,
   "id": "2bd4ea1a",
   "metadata": {},
   "outputs": [],
   "source": [
    "mode = \"L\"\n",
    "\n",
    "sq.gr.ripley(adata, cluster_key=\"leiden\", mode=mode)\n",
    "sq.pl.ripley(\n",
    "    adata,\n",
    "    cluster_key=\"leiden\",\n",
    "    mode=mode,\n",
    ")\n"
   ]
  },
  {
   "cell_type": "code",
   "execution_count": null,
   "id": "6fc466e0",
   "metadata": {},
   "outputs": [],
   "source": [
    "sq.gr.spatial_neighbors(adata, coord_type=\"generic\", delaunay=True)\n",
    "sq.gr.spatial_autocorr(\n",
    "    adata,\n",
    "    mode=\"moran\",\n",
    "    n_perms=100,\n",
    "    n_jobs=1,\n",
    ")\n",
    "adata.uns[\"moranI\"].head(10)"
   ]
  }
 ],
 "metadata": {
  "language_info": {
   "name": "python"
  }
 },
 "nbformat": 4,
 "nbformat_minor": 5
}
